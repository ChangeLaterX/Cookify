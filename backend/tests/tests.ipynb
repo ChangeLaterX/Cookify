{
 "cells": [
  {
   "cell_type": "markdown",
   "id": "418b30f5",
   "metadata": {},
   "source": [
    "# Auth Endpoint Tests\n",
    "\n",
    "This notebook contains all commands and code to test the authentication endpoints on `dev.krija.info:8000`.\n",
    "\n",
    "## Test Credentials\n",
    "- **Email**: krijajannis@gmail.com\n",
    "- **Password**: 221224\n",
    "\n",
    "## Server Info\n",
    "- **Base URL**: http://dev.krija.info:8000/api\n",
    "- **Debug Mode**: True (rate limiting should be disabled)\n",
    "\n",
    "⚠️ **Note**: If you get 429 (rate limit) errors, wait 15 minutes or restart the server."
   ]
  },
  {
   "cell_type": "markdown",
   "id": "810d6bac",
   "metadata": {},
   "source": [
    "## Individual Endpoint Tests\n",
    "\n",
    "Run tests for specific endpoints:"
   ]
  },
  {
   "cell_type": "code",
   "execution_count": null,
   "id": "cbb79330",
   "metadata": {
    "vscode": {
     "languageId": "bash"
    }
   },
   "outputs": [],
   "source": [
    "# Test registration endpoint\n",
    "cd /Users/jannis/Developer/Cookify/backend\n",
    "python -m pytest tests/auth/test_register.py -v"
   ]
  },
  {
   "cell_type": "code",
   "execution_count": null,
   "id": "a879c054",
   "metadata": {
    "vscode": {
     "languageId": "bash"
    }
   },
   "outputs": [],
   "source": [
    "# Test token refresh endpoint\n",
    "cd /Users/jannis/Developer/Cookify/backend\n",
    "python -m pytest tests/auth/test_refresh.py -v"
   ]
  },
  {
   "cell_type": "code",
   "execution_count": null,
   "id": "cf73df07",
   "metadata": {
    "vscode": {
     "languageId": "bash"
    }
   },
   "outputs": [],
   "source": [
    "# Test logout endpoint\n",
    "cd /Users/jannis/Developer/Cookify/backend\n",
    "python -m pytest tests/auth/test_logout.py -v"
   ]
  },
  {
   "cell_type": "code",
   "execution_count": null,
   "id": "2964e2ea",
   "metadata": {
    "vscode": {
     "languageId": "bash"
    }
   },
   "outputs": [],
   "source": [
    "# Test user info endpoints\n",
    "cd /Users/jannis/Developer/Cookify/backend\n",
    "python -m pytest tests/auth/test_me.py -v\n",
    "python -m pytest tests/auth/test_profile.py -v\n",
    "python -m pytest tests/auth/test_update_profile.py -v"
   ]
  },
  {
   "cell_type": "code",
   "execution_count": null,
   "id": "629863cf",
   "metadata": {
    "vscode": {
     "languageId": "bash"
    }
   },
   "outputs": [],
   "source": [
    "# Test password endpoints\n",
    "cd /Users/jannis/Developer/Cookify/backend\n",
    "python -m pytest tests/auth/test_forgot_password.py -v\n",
    "python -m pytest tests/auth/test_reset_password.py -v\n",
    "python -m pytest tests/auth/test_change_password.py -v\n",
    "python -m pytest tests/auth/test_password_strength.py -v"
   ]
  },
  {
   "cell_type": "code",
   "execution_count": null,
   "id": "c9100cb6",
   "metadata": {
    "vscode": {
     "languageId": "bash"
    }
   },
   "outputs": [],
   "source": [
    "# Test email verification endpoints\n",
    "cd /Users/jannis/Developer/Cookify/backend\n",
    "python -m pytest tests/auth/test_verify_email.py -v\n",
    "python -m pytest tests/auth/test_resend_verification.py -v"
   ]
  },
  {
   "cell_type": "code",
   "execution_count": null,
   "id": "3f1d6b2b",
   "metadata": {
    "vscode": {
     "languageId": "bash"
    }
   },
   "outputs": [],
   "source": [
    "# Test utility endpoints\n",
    "cd /Users/jannis/Developer/Cookify/backend\n",
    "python -m pytest tests/auth/test_health.py -v\n",
    "python -m pytest tests/auth/test_user_info.py -v\n",
    "python -m pytest tests/auth/test_dev_login.py -v"
   ]
  },
  {
   "cell_type": "markdown",
   "id": "1d2f4ca6",
   "metadata": {},
   "source": [
    "## Manual Testing (Interactive)\n",
    "\n",
    "Use this when rate limiting is active or you want to test manually:"
   ]
  },
  {
   "cell_type": "code",
   "execution_count": null,
   "id": "c799a063",
   "metadata": {
    "vscode": {
     "languageId": "bash"
    }
   },
   "outputs": [],
   "source": [
    "# Run manual test script\n",
    "cd /Users/jannis/Developer/Cookify/backend\n",
    "python tests/auth/manual_test.py"
   ]
  },
  {
   "cell_type": "markdown",
   "id": "74f62abd",
   "metadata": {},
   "source": [
    "## Interactive Testing with Python\n",
    "\n",
    "Test endpoints directly from Python:"
   ]
  },
  {
   "cell_type": "code",
   "execution_count": null,
   "id": "c38e6b78",
   "metadata": {},
   "outputs": [],
   "source": [
    "import asyncio\n",
    "import httpx\n",
    "import json\n",
    "from typing import Dict, Any\n",
    "\n",
    "# Server configuration\n",
    "BASE_URL = \"http://dev.krija.info:8000/api\"\n",
    "TEST_CREDENTIALS = {\n",
    "    \"email\": \"krijajannis@gmail.com\",\n",
    "    \"password\": \"221224\"\n",
    "}\n",
    "\n",
    "print(\"🚀 Setup complete! Ready for interactive testing.\")"
   ]
  },
  {
   "cell_type": "code",
   "execution_count": null,
   "id": "785ba14b",
   "metadata": {},
   "outputs": [],
   "source": [
    "async def test_endpoint(method: str, endpoint: str, data: Dict[str, Any] = None, headers: Dict[str, str] = None):\n",
    "    \"\"\"Helper function to test any endpoint.\"\"\"\n",
    "    async with httpx.AsyncClient(base_url=BASE_URL) as client:\n",
    "        try:\n",
    "            if method.upper() == \"GET\":\n",
    "                response = await client.get(endpoint, headers=headers)\n",
    "            elif method.upper() == \"POST\":\n",
    "                response = await client.post(endpoint, json=data, headers=headers)\n",
    "            elif method.upper() == \"PUT\":\n",
    "                response = await client.put(endpoint, json=data, headers=headers)\n",
    "            else:\n",
    "                return {\"error\": f\"Unsupported method: {method}\"}\n",
    "            \n",
    "            result = {\n",
    "                \"status_code\": response.status_code,\n",
    "                \"success\": 200 <= response.status_code < 300,\n",
    "                \"headers\": dict(response.headers),\n",
    "            }\n",
    "            \n",
    "            # Try to parse JSON response\n",
    "            try:\n",
    "                result[\"response\"] = response.json()\n",
    "            except:\n",
    "                result[\"response\"] = response.text\n",
    "            \n",
    "            return result\n",
    "            \n",
    "        except Exception as e:\n",
    "            return {\"error\": str(e)}\n",
    "\n",
    "print(\"✅ Helper function ready!\")"
   ]
  },
  {
   "cell_type": "code",
   "execution_count": 16,
   "id": "7a5e8af2",
   "metadata": {},
   "outputs": [
    {
     "name": "stdout",
     "output_type": "stream",
     "text": [
      "Health Check - Status: 200\n",
      "Success: True\n",
      "Response: {\n",
      "  \"message\": \"Authentication service is healthy\",\n",
      "  \"success\": true,\n",
      "  \"details\": {\n",
      "    \"service\": \"auth\",\n",
      "    \"status\": \"operational\"\n",
      "  }\n",
      "}\n"
     ]
    }
   ],
   "source": [
    "# Test 1: Health Check\n",
    "result = await test_endpoint(\"GET\", \"/auth/health\")\n",
    "print(f\"Health Check - Status: {result.get('status_code')}\")\n",
    "print(f\"Success: {result.get('success')}\")\n",
    "if result.get('response'):\n",
    "    print(f\"Response: {json.dumps(result['response'], indent=2)}\")\n",
    "if result.get('error'):\n",
    "    print(f\"Error: {result['error']}\")"
   ]
  },
  {
   "cell_type": "code",
   "execution_count": 17,
   "id": "8352b740",
   "metadata": {},
   "outputs": [
    {
     "name": "stdout",
     "output_type": "stream",
     "text": [
      "Login - Status: 200\n",
      "Success: True\n",
      "✅ Access token obtained: eyJhbGciOiJIUzI1NiIsImtpZCI6IjIxWEEwVlRWVHM2QnZaSm...\n",
      "✅ Refresh token obtained: diqgtqosx7so...\n"
     ]
    }
   ],
   "source": [
    "# Test 2: Login with valid credentials\n",
    "result = await test_endpoint(\"POST\", \"/auth/login\", TEST_CREDENTIALS)\n",
    "print(f\"Login - Status: {result.get('status_code')}\")\n",
    "print(f\"Success: {result.get('success')}\")\n",
    "\n",
    "# Extract tokens if successful\n",
    "access_token = None\n",
    "refresh_token = None\n",
    "if result.get('success') and result.get('response'):\n",
    "    response_data = result['response']\n",
    "    if isinstance(response_data, dict) and 'data' in response_data:\n",
    "        access_token = response_data['data'].get('access_token')\n",
    "        refresh_token = response_data['data'].get('refresh_token')\n",
    "        print(f\"✅ Access token obtained: {access_token[:50]}...\" if access_token else \"❌ No access token\")\n",
    "        print(f\"✅ Refresh token obtained: {refresh_token[:20]}...\" if refresh_token else \"❌ No refresh token\")\n",
    "else:\n",
    "    print(f\"Response: {json.dumps(result.get('response', {}), indent=2)}\")"
   ]
  },
  {
   "cell_type": "code",
   "execution_count": 18,
   "id": "2b19c8b3",
   "metadata": {},
   "outputs": [
    {
     "name": "stdout",
     "output_type": "stream",
     "text": [
      "Invalid Login - Status: 401\n",
      "Expected 401: True\n",
      "Response: {\n",
      "  \"error\": \"http_error\",\n",
      "  \"message\": {\n",
      "    \"error\": \"Authentication failed\",\n",
      "    \"error_code\": \"AUTH_ERROR\"\n",
      "  },\n",
      "  \"request_id\": \"unknown\",\n",
      "  \"status_code\": 401\n",
      "}\n"
     ]
    }
   ],
   "source": [
    "# Test 3: Login with invalid credentials\n",
    "invalid_creds = {\"email\": \"test@example.com\", \"password\": \"wrongpassword\"}\n",
    "result = await test_endpoint(\"POST\", \"/auth/login\", invalid_creds)\n",
    "print(f\"Invalid Login - Status: {result.get('status_code')}\")\n",
    "print(f\"Expected 401: {result.get('status_code') == 401}\")\n",
    "if result.get('response'):\n",
    "    print(f\"Response: {json.dumps(result['response'], indent=2)}\")"
   ]
  },
  {
   "cell_type": "code",
   "execution_count": 19,
   "id": "97ed21a8",
   "metadata": {},
   "outputs": [
    {
     "name": "stdout",
     "output_type": "stream",
     "text": [
      "Get User Info - Status: 200\n",
      "Success: True\n",
      "User ID: ff420e57-c248-4104-b778-182c9dd431fa\n",
      "Email: krijajannis@gmail.com\n",
      "Verified: True\n"
     ]
    }
   ],
   "source": [
    "# Test 4: Get current user info (requires access token)\n",
    "if access_token:\n",
    "    headers = {\"Authorization\": f\"Bearer {access_token}\"}\n",
    "    result = await test_endpoint(\"GET\", \"/auth/me\", headers=headers)\n",
    "    print(f\"Get User Info - Status: {result.get('status_code')}\")\n",
    "    print(f\"Success: {result.get('success')}\")\n",
    "    if result.get('response'):\n",
    "        user_data = result['response']\n",
    "        if isinstance(user_data, dict) and 'user' in user_data:\n",
    "            print(f\"User ID: {user_data['user'].get('id')}\")\n",
    "            print(f\"Email: {user_data['user'].get('email')}\")\n",
    "            print(f\"Verified: {user_data['user'].get('is_verified')}\")\n",
    "else:\n",
    "    print(\"❌ No access token available for authenticated tests\")"
   ]
  },
  {
   "cell_type": "code",
   "execution_count": 20,
   "id": "cc90bf1b",
   "metadata": {},
   "outputs": [
    {
     "name": "stdout",
     "output_type": "stream",
     "text": [
      "Token Refresh - Status: 200\n",
      "Success: True\n",
      "New tokens received: True\n"
     ]
    }
   ],
   "source": [
    "# Test 5: Refresh token\n",
    "if refresh_token:\n",
    "    refresh_data = {\"refresh_token\": refresh_token}\n",
    "    result = await test_endpoint(\"POST\", \"/auth/refresh\", refresh_data)\n",
    "    print(f\"Token Refresh - Status: {result.get('status_code')}\")\n",
    "    print(f\"Success: {result.get('success')}\")\n",
    "    if result.get('response'):\n",
    "        print(f\"New tokens received: {bool(result['response'].get('access_token'))}\")\n",
    "else:\n",
    "    print(\"❌ No refresh token available for refresh test\")"
   ]
  },
  {
   "cell_type": "code",
   "execution_count": 21,
   "id": "8e9a21c7",
   "metadata": {},
   "outputs": [
    {
     "name": "stdout",
     "output_type": "stream",
     "text": [
      "Password Strength - Status: 200\n",
      "Success: True\n",
      "Strength: Very Weak\n",
      "Score: 100\n",
      "Valid: False\n"
     ]
    }
   ],
   "source": [
    "# Test 6: Password strength check\n",
    "password_data = {\"password\": \"TestPassword123!\"}\n",
    "result = await test_endpoint(\"POST\", \"/auth/check-password-strength\", password_data)\n",
    "print(f\"Password Strength - Status: {result.get('status_code')}\")\n",
    "print(f\"Success: {result.get('success')}\")\n",
    "if result.get('response'):\n",
    "    strength_data = result['response']\n",
    "    print(f\"Strength: {strength_data.get('strength_label', 'Unknown')}\")\n",
    "    print(f\"Score: {strength_data.get('score', 'N/A')}\")\n",
    "    print(f\"Valid: {strength_data.get('is_valid', False)}\")"
   ]
  },
  {
   "cell_type": "code",
   "execution_count": null,
   "id": "d60505e7",
   "metadata": {},
   "outputs": [],
   "source": [
    "# Debug: Check rate limiting configuration\n",
    "result = await test_endpoint(\"GET\", \"/auth/debug/rate-limiting\")\n",
    "print(f\"Rate Limiting Debug - Status: {result.get('status_code')}\")\n",
    "print(f\"Success: {result.get('success')}\")\n",
    "if result.get('response'):\n",
    "    debug_data = result['response']\n",
    "    print(f\"Rate limiting enabled: {debug_data.get('rate_limiting_enabled')}\")\n",
    "    print(f\"Debug mode: {debug_data.get('debug_mode')}\")\n",
    "    print(f\"Full response: {json.dumps(debug_data, indent=2)}\")\n",
    "else:\n",
    "    print(\"No debug endpoint available - let's check health endpoint for debug info\")\n",
    "    \n",
    "# Check health endpoint again for debug info\n",
    "health_result = await test_endpoint(\"GET\", \"/auth/health\")\n",
    "if health_result.get('response'):\n",
    "    print(f\"\\nHealth endpoint debug info: {health_result['response'].get('debug', 'Not available')}\")"
   ]
  },
  {
   "cell_type": "code",
   "execution_count": null,
   "id": "98d09572",
   "metadata": {},
   "outputs": [],
   "source": [
    "# Test 7: Forgot password\n",
    "forgot_data = {\"email\": \"test@example.com\"}\n",
    "result = await test_endpoint(\"POST\", \"/auth/forgot-password\", forgot_data)\n",
    "print(f\"Forgot Password - Status: {result.get('status_code')}\")\n",
    "print(f\"Success: {result.get('success')}\")\n",
    "if result.get('response'):\n",
    "    print(f\"Message: {result['response'].get('message', 'No message')}\")"
   ]
  },
  {
   "cell_type": "markdown",
   "id": "39d53ffe",
   "metadata": {},
   "source": [
    "## Quick cURL Commands\n",
    "\n",
    "Use these for fast testing from terminal:"
   ]
  },
  {
   "cell_type": "code",
   "execution_count": null,
   "id": "c5935b87",
   "metadata": {
    "vscode": {
     "languageId": "bash"
    }
   },
   "outputs": [],
   "source": [
    "# Health check\n",
    "curl -s \"http://dev.krija.info:8000/api/auth/health\" | jq '.'"
   ]
  },
  {
   "cell_type": "code",
   "execution_count": null,
   "id": "cf5d036a",
   "metadata": {
    "vscode": {
     "languageId": "bash"
    }
   },
   "outputs": [],
   "source": [
    "# Login\n",
    "curl -s -X POST \"http://dev.krija.info:8000/api/auth/login\" \\\n",
    "  -H \"Content-Type: application/json\" \\\n",
    "  -d '{\"email\": \"krijajannis@gmail.com\", \"password\": \"221224\"}' | jq '.'"
   ]
  },
  {
   "cell_type": "code",
   "execution_count": null,
   "id": "40feb0bf",
   "metadata": {
    "vscode": {
     "languageId": "bash"
    }
   },
   "outputs": [],
   "source": [
    "# Test invalid login\n",
    "curl -s -X POST \"http://dev.krija.info:8000/api/auth/login\" \\\n",
    "  -H \"Content-Type: application/json\" \\\n",
    "  -d '{\"email\": \"test@example.com\", \"password\": \"wrongpassword\"}' | jq '.'"
   ]
  },
  {
   "cell_type": "code",
   "execution_count": null,
   "id": "95051163",
   "metadata": {
    "vscode": {
     "languageId": "bash"
    }
   },
   "outputs": [],
   "source": [
    "# Test password strength\n",
    "curl -s -X POST \"http://dev.krija.info:8000/api/auth/check-password-strength\" \\\n",
    "  -H \"Content-Type: application/json\" \\\n",
    "  -d '{\"password\": \"TestPassword123!\"}' | jq '.'"
   ]
  },
  {
   "cell_type": "markdown",
   "id": "36a298b9",
   "metadata": {},
   "source": [
    "## Troubleshooting\n",
    "\n",
    "### Rate Limiting Issues\n",
    "If you get 429 errors:\n",
    "1. Wait 15 minutes for rate limit to reset\n",
    "2. Or restart the server to clear cache\n",
    "\n",
    "### Check Configuration\n",
    "Verify server settings:"
   ]
  },
  {
   "cell_type": "code",
   "execution_count": null,
   "id": "1316f858",
   "metadata": {
    "vscode": {
     "languageId": "bash"
    }
   },
   "outputs": [],
   "source": [
    "# Check if rate limiting should be disabled\n",
    "cd /Users/jannis/Developer/Cookify/backend\n",
    "python -c \"from core.config import settings; print(f'Debug: {settings.debug}'); print(f'Rate limiting: {settings.rate_limiting_enabled_safe}')\""
   ]
  },
  {
   "cell_type": "markdown",
   "id": "e1804fa0",
   "metadata": {},
   "source": [
    "## Test Summary\n",
    "\n",
    "### Available Endpoints:\n",
    "- ✅ `/auth/health` - Health check\n",
    "- ✅ `/auth/login` - User login\n",
    "- ✅ `/auth/register` - User registration\n",
    "- ✅ `/auth/refresh` - Token refresh\n",
    "- ✅ `/auth/logout` - User logout\n",
    "- ✅ `/auth/me` - Current user info\n",
    "- ✅ `/auth/profile` - User profile\n",
    "- ✅ `/auth/forgot-password` - Password reset request\n",
    "- ✅ `/auth/reset-password` - Password reset confirm\n",
    "- ✅ `/auth/verify-email` - Email verification\n",
    "- ✅ `/auth/resend-verification` - Resend verification\n",
    "- ✅ `/auth/change-password` - Change password\n",
    "- ✅ `/auth/check-password-strength` - Password strength\n",
    "- ✅ `/auth/user-info` - Optional user info\n",
    "- ✅ `/auth/dev-login` - Development login\n",
    "\n",
    "### Test Files Created:\n",
    "- All 16 endpoint test files\n",
    "- Manual testing script\n",
    "- This interactive notebook\n",
    "- Comprehensive pytest configuration"
   ]
  },
  {
   "cell_type": "code",
   "execution_count": null,
   "id": "21920086",
   "metadata": {},
   "outputs": [],
   "source": [
    "import time\n",
    "print(\"⏳ Waiting for rate limit to expire...\")\n",
    "time.sleep(35)  # Wait 35 seconds to be safe\n",
    "print(\"✅ Rate limit should have expired, testing now...\")\n",
    "\n",
    "# Test health endpoint again\n",
    "result = await test_endpoint(\"GET\", \"/auth/health\")\n",
    "print(f\"Health Check - Status: {result.get('status_code')}\")\n",
    "print(f\"Success: {result.get('success')}\")\n",
    "if result.get('response'):\n",
    "    print(f\"Response: {json.dumps(result['response'], indent=2)}\")\n",
    "else:\n",
    "    print(f\"Still rate limited: {result.get('error')}\")"
   ]
  },
  {
   "cell_type": "markdown",
   "id": "2535e7b1",
   "metadata": {},
   "source": [
    "## Server Management\n",
    "\n",
    "Since the API runs on a remote server (`dev.krija.info:8000`), we cannot restart it directly.\n",
    "\n",
    "### Options to fix rate limiting:\n",
    "1. **Wait for rate limit to expire** (15 minutes)\n",
    "2. **Contact server administrator** to restart the service\n",
    "3. **Check if there's a server restart endpoint**\n",
    "4. **Modify rate limiting settings** on the server\n",
    "\n",
    "### Current Status:\n",
    "- Server: ✅ Running on dev.krija.info:8000\n",
    "- Debug Mode: ✅ Enabled (`debug: true`)\n",
    "- Rate Limiting: ❌ Still blocking requests (middleware issue)\n",
    "\n",
    "### Root Cause:\n",
    "The rate limiting middleware is not properly reading the `rate_limiting_enabled_safe` property that should disable rate limiting in debug mode."
   ]
  },
  {
   "cell_type": "code",
   "execution_count": null,
   "id": "9770bdb8",
   "metadata": {},
   "outputs": [],
   "source": [
    "# Test if there are admin/dev endpoints to restart or check server status\n",
    "print(\"🔍 Checking for admin/dev endpoints...\")\n",
    "\n",
    "# Try common development/admin endpoints\n",
    "dev_endpoints = [\n",
    "    \"/dev/restart\",\n",
    "    \"/admin/restart\", \n",
    "    \"/auth/dev/restart\",\n",
    "    \"/auth/dev/status\",\n",
    "    \"/dev/health\",\n",
    "    \"/admin/health\",\n",
    "    \"/system/restart\",\n",
    "    \"/api/dev/restart\"\n",
    "]\n",
    "\n",
    "for endpoint in dev_endpoints:\n",
    "    try:\n",
    "        result = await test_endpoint(\"POST\", endpoint)\n",
    "        if result.get('status_code') != 429:\n",
    "            print(f\"✅ Found endpoint: {endpoint} - Status: {result.get('status_code')}\")\n",
    "            if result.get('response'):\n",
    "                print(f\"Response: {json.dumps(result['response'], indent=2)}\")\n",
    "        else:\n",
    "            print(f\"❌ {endpoint} - Rate limited\")\n",
    "    except Exception as e:\n",
    "        print(f\"❌ {endpoint} - Error: {e}\")\n",
    "    \n",
    "    # Small delay to avoid overwhelming\n",
    "    await asyncio.sleep(0.5)"
   ]
  },
  {
   "cell_type": "code",
   "execution_count": null,
   "id": "12b0ffb9",
   "metadata": {},
   "outputs": [],
   "source": [
    "# Try to get debug information about rate limiting\n",
    "print(\"\\n🔧 Checking debug endpoints...\")\n",
    "\n",
    "debug_endpoints = [\n",
    "    \"/auth/debug\",\n",
    "    \"/debug/middleware\",\n",
    "    \"/debug/rate-limit\",\n",
    "    \"/auth/debug/middleware\",\n",
    "    \"/auth/debug/config\"\n",
    "]\n",
    "\n",
    "for endpoint in debug_endpoints:\n",
    "    try:\n",
    "        result = await test_endpoint(\"GET\", endpoint)\n",
    "        if result.get('status_code') != 429:\n",
    "            print(f\"✅ Debug endpoint found: {endpoint} - Status: {result.get('status_code')}\")\n",
    "            if result.get('response'):\n",
    "                print(f\"Response: {json.dumps(result['response'], indent=2)}\")\n",
    "                break\n",
    "        else:\n",
    "            print(f\"❌ {endpoint} - Rate limited\")\n",
    "    except Exception as e:\n",
    "        pass\n",
    "    \n",
    "    await asyncio.sleep(0.5)"
   ]
  },
  {
   "cell_type": "markdown",
   "id": "38b443da",
   "metadata": {},
   "source": [
    "## Next Steps for Server Administrator\n",
    "\n",
    "Since the rate limiting middleware is not respecting the debug mode setting, the server administrator needs to:\n",
    "\n",
    "### 1. Check Server Logs\n",
    "Look for the debug logging we added to the middleware:\n",
    "```bash\n",
    "# Check server logs for rate limiting debug messages\n",
    "tail -f /path/to/server/logs/app.log | grep \"Rate limiting\"\n",
    "```\n",
    "\n",
    "### 2. Restart the Server\n",
    "```bash\n",
    "# Restart the FastAPI server\n",
    "pkill -f \"python.*main.py\"\n",
    "python main.py\n",
    "# or if using uvicorn directly:\n",
    "uvicorn main:app --reload --host 0.0.0.0 --port 8000\n",
    "```\n",
    "\n",
    "### 3. Verify Configuration\n",
    "```bash\n",
    "# Check that the configuration is loaded correctly\n",
    "python -c \"from core.config import settings; print(f'Debug: {settings.debug}'); print(f'Rate limiting: {settings.rate_limiting_enabled_safe}')\"\n",
    "```\n",
    "\n",
    "### 4. Alternative: Temporarily Disable Middleware\n",
    "Comment out the rate limiting middleware in `main.py`:\n",
    "```python\n",
    "# application.add_middleware(AuthRateLimitMiddleware)  # Temporarily disabled\n",
    "```\n",
    "\n",
    "Once the server is restarted, the tests should work properly."
   ]
  }
 ],
 "metadata": {
  "kernelspec": {
   "display_name": "cookify",
   "language": "python",
   "name": "python3"
  },
  "language_info": {
   "codemirror_mode": {
    "name": "ipython",
    "version": 3
   },
   "file_extension": ".py",
   "mimetype": "text/x-python",
   "name": "python",
   "nbconvert_exporter": "python",
   "pygments_lexer": "ipython3",
   "version": "3.12.9"
  }
 },
 "nbformat": 4,
 "nbformat_minor": 5
}
